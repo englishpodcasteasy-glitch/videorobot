{
  "cells": [
    {
      "cell_type": "markdown",
      "metadata": {
        "id": "intro"
      },
      "source": [
        "# VideoRobot Colab Runner 🖥️\n",
        "\n",
        "این نوت‌بوک تمام مراحل لازم برای نصب پیش‌نیازها، اجرای بک‌اند و ارسال یک کار رندر نمونه را به‌صورت خودکار فراهم می‌کند.\n",
        "\n",
        "> اگر قبلاً مخزن را کلون نکرده‌اید، ابتدا دستور `!git clone https://github.com/englishpodcasteasy-glitch/videorobot.git` را اجرا کنید و سپس دایرکتوری کاری را به همان مسیر تغییر دهید.\n"
      ]
    },
    {
      "cell_type": "code",
      "execution_count": null,
      "metadata": {
        "id": "ffmpeg"
      },
      "outputs": [],
      "source": [
        "# نصب یا تأیید FFmpeg\n",
        "!bash scripts/install_ffmpeg_colab.sh"
      ]
    },
    {
      "cell_type": "code",
      "execution_count": null,
      "metadata": {
        "id": "pip"
      },
      "outputs": [],
      "source": [
        "# نصب وابستگی‌های پایتون\n",
        "!pip install -q -r backend/requirements.txt"
      ]
    },
    {
      "cell_type": "code",
      "execution_count": null,
      "metadata": {
        "id": "env"
      },
      "outputs": [],
      "source": [
        "import os\n",
        "os.environ.setdefault('BACKEND_PORT', '8000')\n",
        "print('BACKEND_PORT =', os.environ['BACKEND_PORT'])"
      ]
    },
    {
      "cell_type": "code",
      "execution_count": null,
      "metadata": {
        "id": "server"
      },
      "outputs": [],
      "source": [
        "# اجرای بک‌اند در پس‌زمینه\n",
        "import subprocess, sys\n",
        "backend = subprocess.Popen([sys.executable, 'backend/main.py'])\n",
        "backend"
      ]
    },
    {
      "cell_type": "code",
      "execution_count": null,
      "metadata": {
        "id": "health"
      },
      "outputs": [],
      "source": [
        "# بررسی سلامت سرویس\n",
        "import time, requests\n",
        "last_exc = None\n",
        "for _ in range(30):\n",
        "    try:\n",
        "        resp = requests.get('http://127.0.0.1:8000/healthz', timeout=2)\n",
        "        if resp.ok:\n",
        "            print('Backend is healthy:', resp.json())\n",
        "            break\n",
        "    except Exception as exc:\n",
        "        last_exc = exc\n",
        "        time.sleep(1)\n",
        "else:\n",
        "    raise SystemExit(f'Backend did not become healthy in time: {last_exc}')"
      ]
    },
    {
      "cell_type": "code",
      "execution_count": null,
      "metadata": {
        "id": "manifest"
      },
      "outputs": [],
      "source": [
        "# ساخت مانیفست نمونه\n",
        "import json\n",
        "from pathlib import Path\n",
        "manifest = {\n",
        "    'seed': 42,\n",
        "    'video': {'width': 720, 'height': 1280, 'fps': 30, 'bg_color': '#101318'},\n",
        "    'tracks': [\n",
        "        {'type': 'text', 'content': 'سلام دنیا', 'start': 0.2, 'duration': 3, 'x': 60, 'y': 80, 'size': 72, 'color': '#FFFFFF'},\n",
        "    ],\n",
        "}\n",
        "manifest_path = Path('/content/manifest.json')\n",
        "manifest_path.write_text(json.dumps(manifest, ensure_ascii=False, indent=2), encoding='utf-8')\n",
        "manifest_path"
      ]
    },
    {
      "cell_type": "code",
      "execution_count": null,
      "metadata": {
        "id": "submit"
      },
      "outputs": [],
      "source": [
        "# ارسال درخواست رندر\n",
        "import json, requests\n",
        "with open('/content/manifest.json', 'r', encoding='utf-8') as fh:\n",
        "    payload = json.load(fh)\n",
        "resp = requests.post('http://127.0.0.1:8000/render', json=payload, timeout=10)\n",
        "resp.raise_for_status()\n",
        "job_info = resp.json()\n",
        "job_info"
      ]
    },
    {
      "cell_type": "code",
      "execution_count": null,
      "metadata": {
        "id": "poll"
      },
      "outputs": [],
      "source": [
        "# پیگیری وضعیت تا اتمام\n",
        "import time, requests\n",
        "job_id = job_info['data']['job_id']\n",
        "while True:\n",
        "    progress = requests.get(f'http://127.0.0.1:8000/progress/{job_id}', timeout=10).json()\n",
        "    state = progress['data']['state']\n",
        "    pct = progress['data']['pct']\n",
        "    print(f'State: {state} | pct={pct}')\n",
        "    if state in {'success', 'error'}:\n",
        "        break\n",
        "    time.sleep(2)\n",
        "progress"
      ]
    },
    {
      "cell_type": "code",
      "execution_count": null,
      "metadata": {
        "id": "download"
      },
      "outputs": [],
      "source": [
        "# دانلود فایل خروجی (در Colab در /content/outputs نگه داشته می‌شود)\n",
        "from pathlib import Path\n",
        "result_path = Path(progress['data']['result']['mp4'])\n",
        "print('Result path:', result_path)\n",
        "print('Exists:', result_path.exists())"
      ]
    },
    {
      "cell_type": "code",
      "execution_count": null,
      "metadata": {
        "id": "cleanup"
      },
      "outputs": [],
      "source": [
        "# توقف فرایند بک‌اند در پایان نوت‌بوک\n",
        "backend.terminate()\n",
        "backend.wait(timeout=10)\n",
        "print('Backend stopped')"
      ]
    }
  ],
  "metadata": {
    "kernelspec": {
      "display_name": "Python 3",
      "language": "python",
      "name": "python3"
    },
    "language_info": {
      "name": "python",
      "version": "3.10"
    }
  },
  "nbformat": 4,
  "nbformat_minor": 5
}