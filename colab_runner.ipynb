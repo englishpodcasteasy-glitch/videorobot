# 💊 Rebuild a clean, runnable Colab notebook (fixes \n-littered cells)
import json, os, textwrap, pathlib

nb = {
  "nbformat": 4,
  "nbformat_minor": 5,
  "metadata": {
    "colab": {"name": "VideoRobot_Colab_Runner_FIXED", "provenance": []},
    "kernelspec": {"name": "python3", "display_name": "Python 3", "language": "python"}
  },
  "cells": [
    {
      "cell_type":"markdown","metadata":{"id":"intro"},
      "source":[
        "# 🎬 VideoRobot — One-Click Colab Runner (Fixed)\n",
        "این نوت‌بوک ریپو را کلون می‌کند، FFmpeg و وابستگی‌ها را نصب می‌کند، بک‌اند را **به‌صورت پکیج** بالا می‌آورد، سلامت را چک می‌کند و یک رندر نمونه می‌گیرد."
      ]
    },
    {
      "cell_type":"code","metadata":{"id":"mount_drive"},"execution_count":None,"outputs":[],
      "source":[
        "# 🧠 Mount Google Drive (optional)\n",
        "try:\n",
        "    from google.colab import drive\n",
        "    drive.mount('/content/drive')\n",
        "    print('✅ Google Drive mounted at /content/drive')\n",
        "except Exception:\n",
        "    print('ℹ️ Not running on Colab; skipping Drive mount')\n"
      ]
    },
    {
      "cell_type":"code","metadata":{"id":"clone_repo"},"execution_count":None,"outputs":[],
      "source":[
        "# 📦 Clone repository fresh\n",
        "import shutil, pathlib, subprocess\n",
        "REPO_URL = 'https://github.com/englishpodcasteasy-glitch/videorobot.git'\n",
        "WORK = pathlib.Path('/content/videorobot')\n",
        "shutil.rmtree(WORK, ignore_errors=True)\n",
        "subprocess.run(['git','clone',REPO_URL,str(WORK)], check=True)\n",
        "print('✅ Repo cloned at', WORK)\n"
      ]
    },
    {
      "cell_type":"code","metadata":{"id":"install_deps"},"execution_count":None,"outputs":[],
      "source":[
        "# ⚙️ Install FFmpeg and Python deps\n",
        "!apt-get update -qq && apt-get install -y ffmpeg\n",
        "!pip install -q -r /content/videorobot/backend/requirements.txt\n"
      ]
    },
    {
      "cell_type":"code","metadata":{"id":"patch_imports"},"execution_count":None,"outputs":[],
      "source":[
        "# 🩹 Ensure backend is a proper package and fix absolute imports if any\n",
        "import re, pathlib\n",
        "BACKEND = pathlib.Path('/content/videorobot/backend')\n",
        "(BACKEND / '__init__.py').write_text('')\n",
        "patterns = [\n",
        "  (r\"\\bfrom\\s+config\\s+import\\b\",            \"from .config import\"),\n",
        "  (r\"\\bfrom\\s+scheduler\\s+import\\b\",         \"from .scheduler import\"),\n",
        "  (r\"\\bfrom\\s+utils\\s+import\\b\",             \"from .utils import\"),\n",
        "  (r\"\\bfrom\\s+renderer_service\\s+import\\b\",  \"from .renderer_service import\"),\n",
        "  (r\"\\bfrom\\s+renderer\\s+import\\b\",          \"from .renderer import\"),\n",
        "  (r\"(^|\\n)\\s*import\\s+config(\\s|$)\",        r\"\\1from . import config\\2\"),\n",
        "  (r\"(^|\\n)\\s*import\\s+utils(\\s|$)\",         r\"\\1from . import utils\\2\")\n",
        "]\n",
        "changed = []\n",
        "for py in BACKEND.rglob('*.py'):\n",
        "    txt = py.read_text(encoding='utf-8', errors='ignore'); orig = txt\n",
        "    for pat,rep in patterns: txt = re.sub(pat, rep, txt)\n",
        "    if txt != orig: py.write_text(txt, encoding='utf-8'); changed.append(py.name)\n",
        "print('🛠️ Patched:', changed if changed else '(no changes needed)')\n"
      ]
    },
    {
      "cell_type":"code","metadata":{"id":"start_backend_pkg"},"execution_count":None,"outputs":[],
      "source":[
        "# 🚀 Start backend as PACKAGE and wait for health\n",
        "import os, sys, time, subprocess, requests, socket\n",
        "REPO = '/content/videorobot'; LOG = '/content/backend.log'\n",
        "def pick_port():\n",
        "    for p in (int(os.environ.get('BACKEND_PORT','8000')),8001,8002):\n",
        "        s=socket.socket()\n",
        "        try: s.bind(('127.0.0.1',p)); s.close(); return p\n",
        "        except OSError: continue\n",
        "    return 8000\n",
        "PORT = pick_port(); os.environ['BACKEND_PORT'] = str(PORT)\n",
        "print('🚪 BACKEND_PORT =', PORT)\n",
        "env=os.environ.copy(); env['PYTHONUNBUFFERED']='1'\n",
        "log_f=open(LOG,'w',encoding='utf-8')\n",
        "proc=subprocess.Popen([sys.executable,'-m','backend.main'], cwd=REPO,\n",
        "                      stdout=log_f, stderr=subprocess.STDOUT, text=True, env=env)\n",
        "print('PID:', proc.pid, 'LOG:', LOG)\n",
        "BASE=f'http://127.0.0.1:{PORT}'\n",
        "ok=False\n",
        "for _ in range(180):\n",
        "    for path in ('/healthz','/health','/version'):\n",
        "        try:\n",
        "            r=requests.get(BASE+path, timeout=2)\n",
        "            if r.ok:\n",
        "                print('✅ Health via', path, '→', r.text)\n",
        "                ok=True; break\n",
        "        except Exception: pass\n",
        "    if ok: break\n",
        "    time.sleep(1)\n",
        "if not ok:\n",
        "    log_f.flush(); log_f.close()\n",
        "    import subprocess as sp\n",
        "    print('\\n❌ Backend not healthy. Tail log:\\n' + '-'*60)\n",
        "    print(sp.getoutput(f'tail -n 200 {LOG} || true'))\n",
        "    raise SystemExit('Backend failed to become healthy.')\n",
        "log_f.flush(); log_f.close(); print('\\n✅ Backend ready at', BASE)\n"
      ]
    },
    {
      "cell_type":"code","metadata":{"id":"make_manifest"},"execution_count":None,"outputs":[],
      "source":[
        "# 📝 Create a simple manifest (uses Drive assets if present)\n",
        "import json, pathlib\n",
        "ASSETS = pathlib.Path('/content/drive/MyDrive/videorobot_assets')\n",
        "manifest = {\n",
        "  'seed': 7,\n",
        "  'video': {'width': 720, 'height': 1280, 'fps': 30, 'bg_color': '#101318'},\n",
        "  'tracks': [\n",
        "    {'type':'text','content':'سلام دنیا','start':0.2,'duration':3,'x':40,'y':80,'size':72,'color':'#FFFFFF'}\n",
        "  ]\n",
        "}\n",
        "try:\n",
        "    vids=list(ASSETS.glob('*.mp4'))\n",
        "    imgs=list(ASSETS.glob('*.png'))+list(ASSETS.glob('*.jpg'))\n",
        "    auds=list(ASSETS.glob('*.mp3'))+list(ASSETS.glob('*.wav'))\n",
        "    if vids: manifest['tracks'].insert(0,{'type':'video','src':str(vids[0]),'start':0,'fit':'cover'})\n",
        "    if imgs: manifest['tracks'].insert(0,{'type':'image','src':str(imgs[0]),'start':0,'duration':5,'x':0,'y':0,'scale':1.0})\n",
        "    if auds: manifest['tracks'].append({'type':'audio','src':str(auds[0]),'start':0,'gain_db':-3})\n",
        "except Exception:\n",
        "    pass\n",
        "pathlib.Path('/content/manifest.json').write_text(json.dumps(manifest, ensure_ascii=False, indent=2))\n",
        "print('✅ Manifest at /content/manifest.json')\n"
      ]
    },
    {
      "cell_type":"code","metadata":{"id":"render"},"execution_count":None,"outputs":[],
      "source":[
        "# 🎥 Submit render; poll; download MP4\n",
        "import os, json, time, requests, urllib.request, pathlib, sys, subprocess\n",
        "BASE = f\"http://127.0.0.1:{os.environ.get('BACKEND_PORT','8000')}\"\n",
        "def maybe_fix(text):\n",
        "    t=(text or '').lower()\n",
        "    if any(k in t for k in ['moviepy','imageio-ffmpeg','videofileclip','ffmpeg not found']):\n",
        "        print('⚠️ MoviePy/FFmpeg missing per server. Installing...')\n",
        "        subprocess.run([sys.executable,'-m','pip','install','-q','moviepy>=1.0.3,<2','imageio-ffmpeg>=0.4.9,<1'], check=False)\n",
        "        return True\n",
        "    return False\n",
        "payload = json.loads(open('/content/manifest.json','r',encoding='utf-8').read())\n",
        "r = requests.post(BASE+'/render', json=payload, timeout=120)\n",
        "print('POST /render:', r.status_code)\n",
        "try: print(json.dumps(r.json(), ensure_ascii=False, indent=2))\n",
        "except Exception: print(r.text[:400])\n",
        "if not r.ok:\n",
        "    body=''\n",
        "    try: body=r.json().get('error') or r.text\n",
        "    except Exception: body=r.text\n",
        "    if maybe_fix(body):\n",
        "        time.sleep(2)\n",
        "        r = requests.post(BASE+'/render', json=payload, timeout=120)\n",
        "        print('POST /render (retry):', r.status_code)\n",
        "        try: print(json.dumps(r.json(), ensure_ascii=False, indent=2))\n",
        "        except Exception: print(r.text[:400])\n",
        "r.raise_for_status()\n",
        "js = r.json(); job_id = js.get('job_id') or (js.get('data') or {}).get('job_id')\n",
        "assert job_id, '❌ No job_id returned'\n",
        "print('🎬 job_id:', job_id)\n",
        "for i in range(900):\n",
        "    g = requests.get(BASE+f'/progress/{job_id}', timeout=10)\n",
        "    if g.ok:\n",
        "        js = g.json(); state = js.get('state') or (js.get('data') or {}).get('state')\n",
        "        pct = js.get('pct') or (js.get('data') or {}).get('pct')\n",
        "        msg = js.get('message') or (js.get('data') or {}).get('message')\n",
        "        print(f'tick {i}:', state, pct, msg or '')\n",
        "        if state == 'success': break\n",
        "        if state == 'error': raise SystemExit(f\"❌ render failed: {js}\")\n",
        "    else:\n",
        "        print('progress http', g.status_code, g.text[:200])\n",
        "    time.sleep(1)\n",
        "OUT = f\"/content/{job_id}.mp4\"\n",
        "try:\n",
        "    urllib.request.urlretrieve(BASE+f'/download?JobId={job_id}', OUT)\n",
        "    print('📦 Downloaded:', OUT)\n",
        "except Exception:\n",
        "    cand = pathlib.Path(f'/content/outputs/{job_id}/final.mp4')\n",
        "    if cand.exists(): print('📦 Found:', str(cand))\n",
        "    else: raise\n"
      ]
    }
  ]
}

out = "/content/colab_runner_FIXED.ipynb"
pathlib.Path(out).write_text(json.dumps(nb, ensure_ascii=False, indent=2))
print("✅ Written:", out)
print("Open it: File → Open notebook → Upload/Choose file → /content/colab_runner_FIXED.ipynb")
