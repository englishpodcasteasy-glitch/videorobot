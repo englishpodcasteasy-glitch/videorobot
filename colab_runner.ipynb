{
  "nbformat": 4,
  "nbformat_minor": 5,
  "metadata": {
    "colab": { "name": "VideoRobot_Colab_Runner", "provenance": [] },
    "kernelspec": { "name": "python3", "display_name": "Python 3", "language": "python" }
  },
  "cells": [
    {
      "cell_type": "markdown",
      "metadata": { "id": "intro_md" },
      "source": [
        "# 🎬 VideoRobot — One-Click Colab Runner\n",
        "این نوت‌بوک ریپوی VideoRobot را کلون کرده، FFmpeg و وابستگی‌ها را نصب می‌کند، بک‌اند را روی Colab GPU بالا می‌آورد، سلامت را بررسی می‌کند، دارایی‌ها را از Google Drive می‌خواند، یک مانفیست نمونه می‌سازد، و ویدیو نهایی را دانلود می‌کند."
      ]
    },
    {
      "cell_type": "code",
      "metadata": { "id": "mount_drive" },
      "execution_count": null,
      "outputs": [],
      "source": [
        "# 🧠 Mount Google Drive for assets (optional)\n",
        "from google.colab import drive\n",
        "drive.mount('/content/drive')\n",
        "print('✅ Google Drive mounted. Put assets under drive/MyDrive/videorobot_assets if needed.')"
      ]
    },
    {
      "cell_type": "code",
      "metadata": { "id": "clone_repo" },
      "execution_count": null,
      "outputs": [],
      "source": [
        "# 📦 Clone repository fresh\n",
        "import shutil, pathlib, subprocess\n",
        "REPO_URL = \"https://github.com/englishpodcasteasy-glitch/videorobot.git\"\n",
        "WORK = pathlib.Path('/content/videorobot')\n",
        "shutil.rmtree(WORK, ignore_errors=True)\n",
        "subprocess.run(['git', 'clone', REPO_URL, str(WORK)], check=True)\n",
        "print('✅ Repo cloned at', WORK)"
      ]
    },
    {
      "cell_type": "code",
      "metadata": { "id": "install_deps" },
      "execution_count": null,
      "outputs": [],
      "source": [
        "# ⚙️ Install FFmpeg and Python deps\n",
        "!apt-get update -qq && apt-get install -y ffmpeg\n",
        "!pip install -q -r /content/videorobot/backend/requirements.txt"
      ]
    },
    {
      "cell_type": "code",
      "metadata": { "id": "start_backend" },
      "execution_count": null,
      "outputs": [],
      "source": [
        "# 🚀 Start backend on port 8000 and check health\n",
        "import os, time, requests, subprocess, sys\n",
        "os.environ['BACKEND_PORT'] = os.environ.get('BACKEND_PORT', '8000')\n",
        "backend = subprocess.Popen([sys.executable, 'backend/main.py'], cwd='/content/videorobot')\n",
        "base = f\"http://127.0.0.1:{os.environ['BACKEND_PORT']}\"\n",
        "for i in range(120):\n",
        "    try:\n",
        "        r = requests.get(base + '/healthz', timeout=2)\n",
        "        if r.ok:\n",
        "            print('✅ Backend healthy:', r.text)\n",
        "            break\n",
        "    except Exception:\n",
        "        pass\n",
        "    time.sleep(1)\n",
        "else:\n",
        "    raise SystemExit('❌ Backend did not become healthy in time')"
      ]
    },
    {
      "cell_type": "code",
      "metadata": { "id": "make_manifest" },
      "execution_count": null,
      "outputs": [],
      "source": [
        "# 📝 Create a sample manifest\n",
        "import json, pathlib\n",
        "manifest = {\n",
        "  \"seed\": 7,\n",
        "  \"video\": {\"width\": 720, \"height\": 1280, \"fps\": 30, \"bg_color\": \"#101318\"},\n",
        "  \"tracks\": [\n",
        "    {\"type\": \"text\", \"content\": \"سلام دنیا\", \"start\": 0.2, \"duration\": 3, \"x\": 40, \"y\": 80, \"size\": 72, \"color\": \"#FFFFFF\"}\n",
        "  ]\n",
        "}\n",
        "path = pathlib.Path('/content/manifest.json')\n",
        "path.write_text(json.dumps(manifest, ensure_ascii=False))\n",
        "print('✅ Manifest saved to', path)"
      ]
    },
    {
      "cell_type": "code",
      "metadata": { "id": "render_and_download" },
      "execution_count": null,
      "outputs": [],
      "source": [
        "# 🎥 Submit render job and download output\n",
        "import urllib.request\n",
        "base = f\"http://127.0.0.1:{os.environ['BACKEND_PORT']}\"\n",
        "resp = requests.post(base + '/render', json=json.loads(open('/content/manifest.json','r',encoding='utf-8').read()), timeout=60)\n",
        "print('POST /render:', resp.status_code, resp.text)\n",
        "resp.raise_for_status()\n",
        "job_id = resp.json().get('job_id')\n",
        "if not job_id:\n",
        "    raise SystemExit('❌ No job_id returned')\n",
        "print('🎬 Job ID:', job_id)\n",
        "for i in range(600):\n",
        "    r = requests.get(base + f'/progress/{job_id}', timeout=10)\n",
        "    if r.ok:\n",
        "        js = r.json()\n",
        "        print(f\"tick {i}: {js.get('state')} {js.get('pct')}\")\n",
        "        if js.get('state') == 'success':\n",
        "            break\n",
        "        if js.get('state') == 'error':\n",
        "            raise SystemExit(js)\n",
        "    time.sleep(1)\n",
        "out = f\"/content/{job_id}.mp4\"\n",
        "urllib.request.urlretrieve(base + f'/download?jobId={job_id}', out)\n",
        "print('✅ Downloaded video:', out)\n",
        "print('🎉 Done! Check /content or Drive for output.')"
      ]
    }
  ]
}
