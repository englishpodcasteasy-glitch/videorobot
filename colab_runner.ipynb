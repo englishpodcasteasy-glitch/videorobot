{
  "nbformat": 4,
  "nbformat_minor": 5,
  "metadata": {
    "colab": { "name": "VideoRobot_Colab_Runner", "provenance": [] },
    "kernelspec": { "name": "python3", "display_name": "Python 3", "language": "python" }
  },
  "cells": [
    {
      "cell_type": "markdown",
      "metadata": { "id": "intro_md" },
      "source": [
        "# VideoRobot — One-Click Colab Runner\n",
        "این نوت‌بوک ریپو را کلون می‌کند، FFmpeg و وابستگی‌ها را نصب می‌کند، بک‌اند را **به‌صورت پکیج** بالا می‌آورد، یک مانیفست نمونه می‌سازد، رندر می‌زند و MP4 نهایی را برمی‌گرداند.\n",
        "\n",
        "اگر قبلاً با اجرای مستقیم `backend/main.py` به خطای import نسبی خورده‌ای، این نسخه آن را با `python -m backend.main` حل می‌کند."
      ]
    },
    {
      "cell_type": "code",
      "metadata": { "id": "clone_repo" },
      "execution_count": null,
      "outputs": [],
      "source": [
        "# 1) Clone repo fresh",
        "import shutil, pathlib",
        "REPO_URL = \"https://github.com/englishpodcasteasy-glitch/videorobot.git\"",
        "WORK = pathlib.Path(\"/content/videorobot\")",
        "shutil.rmtree(WORK, ignore_errors=True)",
        "!git clone {REPO_URL} {WORK}",
        "!cd {WORK} && git rev-parse --short HEAD"
      ]
    },
    {
      "cell_type": "code",
      "metadata": { "id": "install_bits" },
      "execution_count": null,
      "outputs": [],
      "source": [
        "# 2) Install FFmpeg and Python deps (idempotent)",
        "!bash /content/videorobot/scripts/install_ffmpeg_colab.sh || (apt-get update && apt-get install -y ffmpeg)",
        "!pip install -r /content/videorobot/backend/requirements.txt"
      ]
    },
    {
      "cell_type": "code",
      "metadata": { "id": "start_backend_pkg" },
      "execution_count": null,
      "outputs": [],
      "source": [
        "# 3) Start backend as a PACKAGE and health-check (handles relative imports)",
        "import os, sys, time, requests, subprocess, pathlib, socket",
        "REPO = \"/content/videorobot\"",
        "BACKEND_DIR = pathlib.Path(REPO) / \"backend\"",
        "(BACKEND_DIR / \"__init__.py\").write_text(\"\")  # ensure package",
        "",
        "def port_free(p):",
        "    s = socket.socket()",
        "    try:",
        "        s.bind((\"127.0.0.1\", p)); s.close(); return True",
        "    except OSError:",
        "        return False",
        "",
        "cand = [int(os.environ.get(\"BACKEND_PORT\", \"8000\")), 8001, 8002]",
        "port = next((p for p in cand if port_free(p)), 8000)",
        "os.environ[\"BACKEND_PORT\"] = str(port)",
        "print(\"Using BACKEND_PORT =\", port)",
        "",
        "env = os.environ.copy(); env[\"PYTHONUNBUFFERED\"] = \"1\"",
        "proc = subprocess.Popen([sys.executable, \"-m\", \"backend.main\"], cwd=REPO,",
        "                        stdout=subprocess.PIPE, stderr=subprocess.STDOUT, text=True, env=env)",
        "print(\"Backend PID:\", proc.pid)",
        "base = f\"http://127.0.0.1:{port}\"",
        "",
        "# Stream logs while probing /healthz and /health, up to 180s",
        "t0 = time.time(); healthy = False; logs = []",
        "while time.time() - t0 < 180:",
        "    try:",
        "        line = proc.stdout.readline()",
        "        if line:",
        "            logs.append(line);",
        "            logs = logs[-800:]",
        "            print(line, end=\"\")",
        "    except Exception:",
        "        pass",
        "    for path in (\"/healthz\", \"/health\"):",
        "        try:",
        "            r = requests.get(base + path, timeout=2)",
        "            if r.ok:",
        "                print(\"Health OK via\", path, \":\", r.text); healthy = True; break",
        "        except Exception:",
        "            pass",
        "    if healthy: break",
        "    time.sleep(1)",
        "",
        "if not healthy:",
        "    print(\"\\n❌ Not healthy; recent log tail:\\n\", \"\".join(logs[-200:]))",
        "    raise SystemExit(\"Backend still not healthy after 180s\")",
        "",
        "print(\"\\n✅ Backend healthy at\", base)"
      ]
    },
    {
      "cell_type": "code",
      "metadata": { "id": "make_manifest" },
      "execution_count": null,
      "outputs": [],
      "source": [
        "# 4) Create a simple manifest",
        "manifest = {",
        "  \"seed\": 7,",
        "  \"video\": {\"width\": 720, \"height\": 1280, \"fps\": 30, \"bg_color\": \"#101318\"},",
        "  \"tracks\": [",
        "    {\"type\": \"text\", \"content\": \"سلام دنیا\", \"start\": 0.2, \"duration\": 3, \"x\": 40, \"y\": 80, \"size\": 72, \"color\": \"#FFFFFF\"}",
        "  ]",
        "}",
        "import json, pathlib",
        "path = pathlib.Path(\"/content/manifest.json\")",
        "path.write_text(json.dumps(manifest, ensure_ascii=False))",
        "print(\"Manifest:\", path)"
      ]
    },
    {
      "cell_type": "code",
      "metadata": { "id": "render_and_fetch" },
      "execution_count": null,
      "outputs": [],
      "source": [
        "# 5) Submit render, poll progress, and download result",
        "import requests, time, os, json, urllib.request",
        "base = f\"http://127.0.0.1:{os.environ['BACKEND_PORT']}\"",
        "resp = requests.post(base + \"/render\", json=json.loads(open(\"/content/manifest.json\", \"r\", encoding=\"utf-8\").read()), timeout=60)",
        "print(\"POST /render:\", resp.status_code, resp.text)",
        "resp.raise_for_status()",
        "job_id = resp.json().get(\"job_id\")",
        "assert job_id, \"No job_id returned\"",
        "for i in range(600):",
        "    r = requests.get(base + f\"/progress/{job_id}\", timeout=10)",
        "    if r.ok:",
        "        js = r.json(); print(f\"tick {i}:\", js.get(\"state\"), js.get(\"pct\"))",
        "        if js.get(\"state\") == \"success\":",
        "            break",
        "        if js.get(\"state\") == \"error\":",
        "            raise SystemExit(js)",
        "    time.sleep(1)",
        "out = f\"/content/{job_id}.mp4\"",
        "urllib.request.urlretrieve(base + f\"/download?jobId={job_id}\", out)",
        "print(\"Downloaded:\", out)",
        "print(\"If not found here, also check /content/outputs/<job_id>/final.mp4\")"
      ]
    }
  ]
}
