{
  "cells": [
    {
      "cell_type": "markdown",
      "metadata": {
        "id": "intro"
      },
      "source": [
        "# VideoRobot Colab Runner \ud83d\ude80\n",
        "\n",
        "This notebook automates the full VideoRobot pipeline on Google Colab, including FFmpeg installation, backend launch, deterministic rendering, and Google Drive integration for assets and outputs.\n"
      ]
    },
    {
      "cell_type": "code",
      "metadata": {
        "id": "clone_repo"
      },
      "source": [
        "import os\n",
        "import pathlib\n",
        "import subprocess\n",
        "\n",
        "REPO_ROOT = pathlib.Path('/content/videorobot')\n",
        "repo_spec = os.environ.get('COLAB_NOTEBOOK_PATH', '')\n",
        "if REPO_ROOT.exists():\n",
        "    print('Repository already present at', REPO_ROOT)\n",
        "else:\n",
        "    if repo_spec.startswith('github/'):\n",
        "        parts = repo_spec.split('/')\n",
        "        owner, repo = parts[1], parts[2]\n",
        "        repo_url = f'https://github.com/{owner}/{repo}.git'\n",
        "    else:\n",
        "        repo_url = os.environ.get('VIDEOROBOT_REPO_URL', 'https://github.com/englishpodcasteasy-glitch/videorobot.git')\n",
        "    print('Cloning', repo_url)\n",
        "    subprocess.run(['git', 'clone', '--depth', '1', repo_url, str(REPO_ROOT)], check=True)\n",
        "os.chdir(REPO_ROOT)\n",
        "print('Working directory:', pathlib.Path.cwd())\n"
      ],
      "outputs": null,
      "execution_count": null
    },
    {
      "cell_type": "code",
      "metadata": {
        "id": "drive_mount"
      },
      "source": [
        "# Mount Google Drive for optional asset import\n",
        "from google.colab import drive\n",
        "import pathlib\n",
        "mount_point = '/content/drive'\n",
        "if not pathlib.Path(mount_point).is_mount():\n",
        "    drive.mount(mount_point)\n",
        "else:\n",
        "    print('Google Drive already mounted at', mount_point)\n",
        ""
      ],
      "outputs": null,
      "execution_count": null
    },
    {
      "cell_type": "code",
      "metadata": {
        "id": "copy_assets"
      },
      "source": [
        "# Optional: copy assets from Drive to the repo Assets/ directory\n",
        "import shutil\n",
        "import pathlib\n",
        "\n",
        "SRC = pathlib.Path('/content/drive/MyDrive/videorobot_assets')\n",
        "DST = pathlib.Path('/content/videorobot/Assets')\n",
        "DST.mkdir(parents=True, exist_ok=True)\n",
        "if SRC.exists():\n",
        "    copied = []\n",
        "    for path in SRC.glob('*'):\n",
        "        if path.is_file():\n",
        "            target = DST / path.name\n",
        "            shutil.copy2(path, target)\n",
        "            copied.append(target.name)\n",
        "    print('Assets copied:', copied or 'none')\n",
        "else:\n",
        "    print('No Drive assets folder found at', SRC)\n"
      ],
      "outputs": null,
      "execution_count": null
    },
    {
      "cell_type": "code",
      "metadata": {
        "id": "install_ffmpeg"
      },
      "source": [
        "# Ensure FFmpeg is installed\n",
        "!bash scripts/install_ffmpeg_colab.sh\n"
      ],
      "outputs": null,
      "execution_count": null
    },
    {
      "cell_type": "code",
      "metadata": {
        "id": "install_requirements"
      },
      "source": [
        "# Install backend dependencies\n",
        "!pip install -q -r backend/requirements.txt\n"
      ],
      "outputs": null,
      "execution_count": null
    },
    {
      "cell_type": "code",
      "metadata": {
        "id": "env_setup"
      },
      "source": [
        "# Configure environment variables for the backend\n",
        "import os\n",
        "os.environ.setdefault('BACKEND_PORT', '8000')\n",
        "os.environ.setdefault('VR_LOG_LEVEL', 'INFO')\n",
        "print('BACKEND_PORT =', os.environ['BACKEND_PORT'])\n"
      ],
      "outputs": null,
      "execution_count": null
    },
    {
      "cell_type": "code",
      "metadata": {
        "id": "backend_launch"
      },
      "source": [
        "# Launch the backend in the background\n",
        "import subprocess\n",
        "import sys\n",
        "import time\n",
        "\n",
        "backend = subprocess.Popen([sys.executable, '-m', 'backend.main'])\n",
        "print('Backend PID:', backend.pid)\n",
        "\n",
        "last_exc = None\n",
        "for attempt in range(30):\n",
        "    time.sleep(1)\n",
        "    try:\n",
        "        import requests\n",
        "\n",
        "        resp = requests.get('http://127.0.0.1:8000/healthz', timeout=2)\n",
        "        if resp.ok:\n",
        "            print('Backend is healthy')\n",
        "            break\n",
        "    except Exception as exc:\n",
        "        last_exc = exc\n",
        "else:\n",
        "    backend.terminate()\n",
        "    backend.wait(timeout=10)\n",
        "    raise SystemExit(f'Backend did not become healthy: {last_exc}')\n"
      ],
      "outputs": null,
      "execution_count": null
    },
    {
      "cell_type": "code",
      "metadata": {
        "id": "write_manifest"
      },
      "source": [
        "# Compose a sample manifest for rendering\n",
        "import json\n",
        "from pathlib import Path\n",
        "\n",
        "manifest = {\n",
        "    'seed': 42,\n",
        "    'video': {'width': 720, 'height': 1280, 'fps': 30, 'bg_color': '#101318'},\n",
        "    'tracks': [\n",
        "        {'type': 'text', 'content': 'Colab render complete', 'start': 0.4, 'duration': 4, 'x': 64, 'y': 120, 'size': 72, 'color': '#FFFFFF'}\n",
        "    ]\n",
        "}\n",
        "Path('manifest.json').write_text(json.dumps(manifest, ensure_ascii=False, indent=2), encoding='utf-8')\n",
        "print('Manifest saved to', Path('manifest.json').resolve())\n"
      ],
      "outputs": null,
      "execution_count": null
    },
    {
      "cell_type": "code",
      "metadata": {
        "id": "submit_render"
      },
      "source": [
        "# Submit the render job\n",
        "import json\n",
        "import requests\n",
        "\n",
        "with open('manifest.json', 'r', encoding='utf-8') as fh:\n",
        "    payload = json.load(fh)\n",
        "\n",
        "response = requests.post('http://127.0.0.1:8000/render', json=payload, timeout=30)\n",
        "response.raise_for_status()\n",
        "job_info = response.json()['data']\n",
        "print('Render job queued:', job_info)\n"
      ],
      "outputs": null,
      "execution_count": null
    },
    {
      "cell_type": "code",
      "metadata": {
        "id": "poll_progress"
      },
      "source": [
        "# Poll the render progress until completion\n",
        "import time\n",
        "import requests\n",
        "\n",
        "job_id = job_info['job_id']\n",
        "while True:\n",
        "    progress = requests.get(f'http://127.0.0.1:8000/progress/{job_id}', timeout=30).json()['data']\n",
        "    print(progress)\n",
        "    if progress['state'] in {'success', 'error'}:\n",
        "        break\n",
        "    time.sleep(2)\n",
        "\n",
        "if progress['state'] != 'success':\n",
        "    raise SystemExit(f'Render failed: {progress}')\n"
      ],
      "outputs": null,
      "execution_count": null
    },
    {
      "cell_type": "code",
      "metadata": {
        "id": "download_result"
      },
      "source": [
        "# Download the resulting MP4\n",
        "import requests\n",
        "from pathlib import Path\n",
        "\n",
        "job_id = job_info['job_id']\n",
        "result = requests.get(f\"http://127.0.0.1:8000/download?jobId={job_id}\", timeout=60)\n",
        "result.raise_for_status()\n",
        "output_path = Path(f'/content/outputs/{job_id}/final.mp4')\n",
        "output_path.parent.mkdir(parents=True, exist_ok=True)\n",
        "output_path.write_bytes(result.content)\n",
        "print('Output saved to', output_path)\n",
        "print('Files in job directory:', list(output_path.parent.iterdir()))\n"
      ],
      "outputs": null,
      "execution_count": null
    },
    {
      "cell_type": "code",
      "metadata": {
        "id": "shutdown"
      },
      "source": [
        "# Shut down the backend process\n",
        "backend.terminate()\n",
        "backend.wait(timeout=10)\n",
        "print('Backend stopped')\n"
      ],
      "outputs": null,
      "execution_count": null
    }
  ],
  "metadata": {
    "kernelspec": {
      "display_name": "Python 3",
      "language": "python",
      "name": "python3"
    },
    "language_info": {
      "name": "python",
      "version": "3.10"
    }
  },
  "nbformat": 4,
  "nbformat_minor": 5
}