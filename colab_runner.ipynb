{
  "nbformat": 4,
  "nbformat_minor": 5,
  "metadata": {
    "colab": { "name": "VideoRobot_Colab_Runner", "provenance": [] },
    "kernelspec": { "name": "python3", "display_name": "Python 3", "language": "python" }
  },
  "cells": [
    {
      "cell_type": "markdown",
      "metadata": { "id": "intro_md" },
      "source": [
        "# VideoRobot — One-Click Colab Runner\n",
        "این نوت‌بوک ریپو را کلون می‌کند، FFmpeg و وابستگی‌ها را نصب می‌کند، بک‌اند را بالا می‌آورد، یک مانیفست نمونه می‌سازد، رندر می‌زند و MP4 نهایی را برمی‌گرداند."
      ]
    },
    {
      "cell_type": "code",
      "metadata": { "id": "clone_repo" },
      "execution_count": null,
      "outputs": [],
      "source": [
        "# 1) Clone repo (fresh)\n",
        "import shutil, pathlib\n",
        "REPO_URL = \"https://github.com/englishpodcasteasy-glitch/videorobot.git\"\n",
        "WORK = pathlib.Path(\"/content/videorobot\")\n",
        "shutil.rmtree(WORK, ignore_errors=True)\n",
        "!git clone {REPO_URL} {WORK}\n",
        "!cd {WORK} && git rev-parse --short HEAD"
      ]
    },
    {
      "cell_type": "code",
      "metadata": { "id": "install_bits" },
      "execution_count": null,
      "outputs": [],
      "source": [
        "# 2) Install FFmpeg and Python deps\n",
        "!bash /content/videorobot/scripts/install_ffmpeg_colab.sh || (apt-get update && apt-get install -y ffmpeg)\n",
        "!pip install -r /content/videorobot/backend/requirements.txt"
      ]
    },
    {
      "cell_type": "code",
      "metadata": { "id": "start_backend" },
      "execution_count": null,
      "outputs": [],
      "source": [
        "# 3) Start backend on port 8000 and health-check\n",
        "import os, time, requests, subprocess, sys\n",
        "os.environ[\"BACKEND_PORT\"] = os.environ.get(\"BACKEND_PORT\", \"8000\")\n",
        "backend = subprocess.Popen([sys.executable, \"backend/main.py\"], cwd=\"/content/videorobot\")\n",
        "base = f\"http://127.0.0.1:{os.environ['BACKEND_PORT']}\"\n",
        "for i in range(120):  # Colab گاهی کند است؛ 2 دقیقه صبر کن\n",
        "    try:\n",
        "        r = requests.get(base + \"/healthz\", timeout=2)\n",
        "        if r.ok:\n",
        "            print(\"Health OK:\", r.text)\n",
        "            break\n",
        "    except Exception:\n",
        "        pass\n",
        "    time.sleep(1)\n",
        "else:\n",
        "    raise SystemExit(\"Backend did not become healthy in time\")"
      ]
    },
    {
      "cell_type": "code",
      "metadata": { "id": "make_manifest" },
      "execution_count": null,
      "outputs": [],
      "source": [
        "# 4) Create a simple manifest\n",
        "manifest = {\n",
        "  \"seed\": 7,\n",
        "  \"video\": {\"width\": 720, \"height\": 1280, \"fps\": 30, \"bg_color\": \"#101318\"},\n",
        "  \"tracks\": [\n",
        "    {\"type\": \"text\", \"content\": \"سلام دنیا\", \"start\": 0.2, \"duration\": 3, \"x\": 40, \"y\": 80, \"size\": 72, \"color\": \"#FFFFFF\"}\n",
        "  ]\n",
        "}\n",
        "import json, pathlib\n",
        "path = pathlib.Path(\"/content/manifest.json\")\n",
        "path.write_text(json.dumps(manifest, ensure_ascii=False))\n",
        "print(\"Manifest:\", path)"
      ]
    },
    {
      "cell_type": "code",
      "metadata": { "id": "render_and_fetch" },
      "execution_count": null,
      "outputs": [],
      "source": [
        "# 5) Submit render, poll, and download result\n",
        "import requests, time, os, json, urllib.request\n",
        "base = f\"http://127.0.0.1:{os.environ['BACKEND_PORT']}\"\n",
        "resp = requests.post(base + \"/render\", json=json.loads(open(\"/content/manifest.json\", \"r\", encoding=\"utf-8\").read()), timeout=60)\n",
        "print(\"POST /render:\", resp.status_code, resp.text)\n",
        "resp.raise_for_status()\n",
        "job_id = resp.json().get(\"job_id\")\n",
        "assert job_id, \"No job_id returned\"\n",
        "for i in range(600):\n",
        "    r = requests.get(base + f\"/progress/{job_id}\", timeout=10)\n",
        "    if r.ok:\n",
        "        js = r.json(); print(f\"tick {i}:\", js.get(\"state\"), js.get(\"pct\"))\n",
        "        if js.get(\"state\") == \"success\":\n",
        "            break\n",
        "        if js.get(\"state\") == \"error\":\n",
        "            raise SystemExit(js)\n",
        "    time.sleep(1)\n",
        "out = f\"/content/{job_id}.mp4\"\n",
        "urllib.request.urlretrieve(base + f\"/download?jobId={job_id}\", out)\n",
        "print(\"Downloaded:\", out)\n",
        "print(\"If not found here, also check /content/outputs/<job_id>/final.mp4\")"
      ]
    }
  ]
}
